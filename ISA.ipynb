{
 "cells": [
  {
   "cell_type": "markdown",
   "metadata": {},
   "source": [
    "# 1 .程序员可见的状态\n",
    "\n",
    "![程序员可见状态](程序员可见状态.png)\n",
    "\n",
    "有15个程序寄存器如上图。有3个一位的条件码。PC存放当前正在执行指令的地址。状态码Stat指明程序执行的总体状态。"
   ]
  },
  {
   "cell_type": "markdown",
   "metadata": {},
   "source": [
    "# 2. 指令说明\n",
    "\n",
    "支持的指令总结如下图：\n",
    "\n",
    "![指令](指令.png)\n",
    "\n",
    "其中的OPq包含四条整数操作指令，分别是addq、subq、andq、xorq，这些指令会自动设置3个条件码。\n",
    "\n",
    "7个跳转指令根据分支类型和条件码的值来设置跳转\n",
    "\n",
    "call指令将返回地址入栈，然后跳转到目的地址。ret指令从这样的调用中返回。\n",
    "\n",
    "部分未展开的指令在指令编码中详细说明。"
   ]
  },
  {
   "cell_type": "markdown",
   "metadata": {},
   "source": [
    "# 3. 指令编码\n",
    "   \n",
    "每条指令的第一个字节表明指令类型。高四位为代码code，第四位为功能func，编码如下：\n",
    "\n",
    "![指令编码](指令编码.png)\n",
    "\n",
    "另外，为15个寄存器编码如下，其中F表示无寄存器：\n",
    "\n",
    "![寄存器编码](寄存器编码.png)\n"
   ]
  },
  {
   "cell_type": "markdown",
   "metadata": {},
   "source": [
    "# 4.指令微操作和python描述\n",
    "\n",
    "将指令的执行分为通用的6个阶段如下\n",
    "\n",
    "* 取指（fetch）：读取指令的icode和ifun字段，并且还可能读出一个8字节常数字valC。\n",
    "\n",
    "* 译码（decode）：从寄存器文件读入最多两个操作数，得到valA和valB。\n",
    "\n",
    "* 执行（execute）：ALU根据ifun的值计算内存引用的有效地址或增加减少栈指针。称其结果为valE。这个阶段检验条件码和分支条件（由ifun给出），决定是否会选择分支。\n",
    "\n",
    "* 访存（memory）：可以将数据写入内存，或者从内存读出数据。读出的值为valM。\n",
    "\n",
    "* 写回（write back）：最多将两个结果写回寄存器中。\n",
    "\n",
    "* 更新PC（PC update）：将PC设置为下一条指令地址。\n",
    "\n",
    "下面的几张图片详细说明了各指令在不同阶段的微操作：\n",
    "\n",
    "![微操作1](微操作1.png)\n",
    "\n",
    "![微操作2](微操作2.png)\n",
    "\n",
    "![微操作3](微操作3.png)\n",
    "\n",
    "![微操作4](微操作4.png)\n"
   ]
  }
 ],
 "metadata": {
  "kernelspec": {
   "display_name": "base",
   "language": "python",
   "name": "python3"
  },
  "language_info": {
   "codemirror_mode": {
    "name": "ipython",
    "version": 3
   },
   "file_extension": ".py",
   "mimetype": "text/x-python",
   "name": "python",
   "nbconvert_exporter": "python",
   "pygments_lexer": "ipython3",
   "version": "3.8.8"
  },
  "orig_nbformat": 4
 },
 "nbformat": 4,
 "nbformat_minor": 2
}
