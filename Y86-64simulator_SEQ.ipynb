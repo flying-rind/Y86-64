{
 "cells": [
  {
   "cell_type": "code",
   "execution_count": 1,
   "metadata": {},
   "outputs": [
    {
     "name": "stdout",
     "output_type": "stream",
     "text": [
      "running\n"
     ]
    }
   ],
   "source": [
    "from functions import *\n",
    "import resources"
   ]
  },
  {
   "cell_type": "code",
   "execution_count": 2,
   "metadata": {},
   "outputs": [],
   "source": [
    "def loadProgram(file):\n",
    "    fil = open(file,'r')\n",
    "    lineno = 0\n",
    "    address = 0\n",
    "    while True:\n",
    "        line = fil.readline()\n",
    "        lineno += 1\n",
    "        if (lineno == 1 or lineno == 2):\n",
    "            continue\n",
    "        if(line == '' or line == '\\n'):\n",
    "            break\n",
    "        try:\n",
    "            instruc = line\n",
    "            instruc = instruc.strip('\\n')\n",
    "            instruc = instruc.split(',')[0]\n",
    "            instruc = instruc.split(';')[0]\n",
    "            instruc = instruc.strip(',')    #指令为字符串类型,十六进制\n",
    "            instruc = instruc.strip(';')\n",
    "\n",
    "            print(instruc, len(instruc))\n",
    "            \n",
    "            for i in range(0, len(instruc)//2):\n",
    "                resources.mem[address] = instruc[2*i : 2*i+2]\n",
    "                address += 1\n",
    "        except:\n",
    "            print(f'File {file} line {lineno} has error')\n",
    "            pass\n",
    "    fil.close"
   ]
  },
  {
   "cell_type": "code",
   "execution_count": 3,
   "metadata": {},
   "outputs": [
    {
     "name": "stdout",
     "output_type": "stream",
     "text": [
      "30F00100000000000000 20\n",
      "6011 4\n",
      "6022 4\n",
      "6033 4\n",
      "6044 4\n",
      "00 2\n",
      "['30', 'F0', '01', '00', '00', '00', '00', '00', '00', '00', '60', '11', '60', '22', '60', '33', '60', '44', '00', '00', '00', '00', '00', '00', '00', '00', '00', '00', '00', '00', '00', '00', '00', '00', '00', '00', '00', '00', '00', '00', '00', '00', '00', '00', '00', '00', '00', '00', '00', '00', '00', '00', '00', '00', '00', '00', '00', '00', '00', '00', '00', '00', '00', '00', '00', '00', '00', '00', '00', '00', '00', '00', '00', '00', '00', '00', '00', '00', '00', '00', '00', '00', '00', '00', '00', '00', '00', '00', '00', '00', '00', '00', '00', '00', '00', '00', '00', '00', '00', '00', '00', '00', '00', '00', '00', '00', '00', '00', '00', '00', '00', '00', '00', '00', '00', '00', '00', '00', '00', '00', '00', '00', '00', '00', '00', '00', '00', '00', '00', '00', '00', '00', '00', '00', '00', '00', '00', '00', '00', '00', '00', '00', '00', '00', '00', '00', '00', '00', '00', '00', '00', '00', '00', '00', '00', '00', '00', '00', '00', '00', '00', '00', '00', '00', '00', '00', '00', '00', '00', '00', '00', '00', '00', '00', '00', '00', '00', '00', '00', '00', '00', '00', '00', '00', '00', '00', '00', '00', '00', '00', '00', '00', '00', '00', '00', '00', '00', '00', '00', '00', '00', '00', '00', '00', '00', '00', '00', '00', '00', '00', '00', '00', '00', '00', '00', '00', '00', '00', '00', '00', '00', '00', '00', '00', '00', '00', '00', '00', '00', '00', '00', '00', '00', '00', '00', '00', '00', '00', '00', '00', '00', '00', '00', '00', '00', '00', '00', '00', '00', '00', '00', '00', '00', '00', '00', '00', '00', '00', '00', '00', '00', '00', '00', '00', '00', '00', '00', '00', '00', '00', '00', '00', '00', '00', '00', '00', '00', '00', '00', '00', '00', '00', '00', '00', '00', '00', '00', '00', '00', '00', '00', '00', '00', '00', '00', '00', '00', '00', '00', '00', '00', '00', '00', '00', '00', '00', '00', '00', '00', '00', '00', '00', '00', '00', '00', '00', '00', '00', '00', '00', '00', '00', '00', '00', '00', '00', '00', '00', '00', '00', '00', '00', '00', '00', '00', '00', '00', '00', '00', '00', '00', '00', '00', '00', '00', '00', '00', '00', '00', '00', '00', '00', '00', '00', '00', '00', '00', '00', '00', '00', '00', '00', '00', '00', '00', '00', '00', '00', '00', '00', '00', '00', '00', '00', '00', '00', '00', '00', '00', '00', '00', '00', '00', '00', '00', '00', '00', '00', '00', '00', '00', '00', '00', '00', '00', '00', '00', '00', '00', '00', '00', '00', '00', '00', '00', '00', '00', '00', '00', '00', '00', '00', '00', '00', '00', '00', '00', '00', '00', '00', '00', '00', '00', '00', '00', '00', '00', '00', '00', '00', '00', '00', '00', '00', '00', '00', '00', '00', '00', '00', '00', '00', '00', '00', '00', '00', '00', '00', '00', '00', '00', '00', '00', '00', '00', '00', '00', '00', '00', '00', '00', '00', '00', '00', '00', '00', '00', '00', '00', '00', '00', '00', '00', '00', '00', '00', '00', '00', '00', '00', '00', '00', '00', '00', '00', '00', '00', '00', '00', '00', '00', '00', '00', '00', '00', '00', '00', '00', '00', '00', '00', '00', '00', '00', '00', '00', '00', '00', '00', '00', '00', '00', '00', '00', '00', '00', '00', '00', '00', '00', '00', '00', '00', '00', '00', '00', '00', '00', '00', '00', '00', '00', '00', '00', '00', '00', '00', '00', '00', '00', '00', '00', '00', '00', '00', '00', '00', '00', '00', '00', '00', '00', '00', '00', '00', '00', '00', '00', '00', '00', '00', '00', '00', '00', '00', '00', '00', '00', '00', '00', '00', '00', '00', '00', '00', '00', '00', '00', '00', '00', '00', '00', '00', '00', '00', '00', '00', '00', '00', '00', '00', '00', '00', '00', '00', '00', '00', '00', '00', '00', '00', '00', '00', '00', '00', '00', '00', '00', '00', '00', '00', '00', '00', '00', '00', '00', '00', '00', '00', '00', '00', '00', '00', '00', '00', '00', '00', '00', '00', '00', '00', '00', '00', '00', '00', '00', '00', '00', '00', '00', '00', '00', '00', '00', '00', '00', '00', '00', '00', '00', '00', '00', '00', '00', '00', '00', '00', '00', '00', '00', '00', '00', '00', '00', '00', '00', '00', '00', '00', '00', '00', '00', '00', '00', '00', '00', '00', '00', '00', '00', '00', '00', '00', '00', '00', '00', '00', '00', '00', '00', '00', '00', '00', '00', '00', '00', '00', '00', '00', '00', '00', '00', '00', '00', '00', '00', '00', '00', '00', '00', '00', '00', '00', '00', '00', '00', '00', '00', '00', '00', '00', '00', '00', '00', '00', '00', '00', '00', '00', '00', '00', '00', '00', '00', '00', '00', '00', '00', '00', '00', '00', '00', '00', '00', '00', '00', '00', '00', '00', '00', '00', '00', '00', '00', '00', '00', '00', '00', '00', '00', '00', '00', '00', '00', '00', '00', '00', '00', '00', '00', '00', '00', '00', '00', '00', '00', '00', '00', '00', '00', '00', '00', '00', '00', '00', '00', '00', '00', '00', '00', '00', '00', '00', '00', '00', '00', '00', '00', '00', '00', '00', '00', '00', '00', '00', '00', '00', '00', '00', '00', '00', '00', '00', '00', '00', '00', '00', '00', '00', '00', '00', '00', '00', '00', '00', '00', '00', '00', '00', '00', '00', '00', '00', '00', '00', '00', '00', '00', '00', '00', '00', '00', '00', '00', '00', '00', '00', '00', '00', '00', '00', '00', '00', '00', '00', '00', '00', '00', '00', '00', '00', '00', '00', '00', '00', '00', '00', '00', '00', '00', '00', '00', '00', '00', '00', '00', '00', '00', '00', '00', '00', '00', '00', '00', '00', '00', '00', '00', '00', '00', '00', '00', '00', '00', '00', '00', '00', '00', '00', '00', '00', '00', '00', '00', '00', '00', '00', '00', '00', '00', '00', '00', '00', '00', '00', '00', '00', '00', '00', '00', '00', '00', '00', '00', '00', '00', '00', '00', '00', '00', '00', '00', '00', '00', '00', '00', '00', '00', '00', '00', '00', '00', '00', '00', '00', '00', '00', '00', '00', '00', '00', '00', '00', '00', '00', '00', '00', '00', '00', '00', '00', '00', '00', '00', '00', '00', '00', '00', '00', '00', '00', '00', '00', '00', '00', '00', '00', '00', '00', '00', '00', '00', '00', '00', '00', '00', '00', '00', '00', '00', '00', '00', '00', '00', '00', '00', '00', '00', '00', '00', '00', '00', '00', '00', '00', '00', '00', '00', '00', '00', '00', '00', '00', '00', '00', '00', '00', '00', '00', '00', '00', '00', '00', '00']\n",
      "[0, 0, 0, 0, 500, 0, 0, 0, 0, 0, 0, 0, 0, 0, 0, 0]\n",
      "0\n"
     ]
    }
   ],
   "source": [
    "loadProgram(\"test_pipeline.coe\")\n",
    "print(resources.mem)\n",
    "print(resources.reg)\n",
    "print(resources.PC)"
   ]
  },
  {
   "cell_type": "code",
   "execution_count": 4,
   "metadata": {},
   "outputs": [],
   "source": [
    "def check():\n",
    "   #print(resources.stat)\n",
    "   if(resources.stat == 1):\n",
    "      return 1\n",
    "   elif(resources.stat == 2):\n",
    "      print(\"Error: Halt\")\n",
    "      return 0\n",
    "   elif(resources.stat == 3):\n",
    "      print(\"Error: ilegal address\")\n",
    "      return 0\n",
    "   elif(resources.stat == 4):\n",
    "      print(\"Error: ilegal instruction\")\n",
    "      return 0\n",
    "\n",
    "instruction_no = 0\n"
   ]
  },
  {
   "cell_type": "code",
   "execution_count": 5,
   "metadata": {},
   "outputs": [
    {
     "ename": "RuntimeError",
     "evalue": "cannot join thread before it is started",
     "output_type": "error",
     "traceback": [
      "\u001b[1;31m---------------------------------------------------------------------------\u001b[0m",
      "\u001b[1;31mRuntimeError\u001b[0m                              Traceback (most recent call last)",
      "\u001b[1;32mc:\\Users\\mangp\\Desktop\\programs\\体系结构\\Y86-64simulator_SEQ\\Y86-64simulator_SEQ.ipynb 单元格 5\u001b[0m line \u001b[0;36m<cell line: 63>\u001b[1;34m()\u001b[0m\n\u001b[0;32m     <a href='vscode-notebook-cell:/c%3A/Users/mangp/Desktop/programs/%E4%BD%93%E7%B3%BB%E7%BB%93%E6%9E%84/Y86-64simulator_SEQ/Y86-64simulator_SEQ.ipynb#W5sZmlsZQ%3D%3D?line=59'>60</a>\u001b[0m       \u001b[39mreturn\u001b[39;00m \u001b[39mFalse\u001b[39;00m\n\u001b[0;32m     <a href='vscode-notebook-cell:/c%3A/Users/mangp/Desktop/programs/%E4%BD%93%E7%B3%BB%E7%BB%93%E6%9E%84/Y86-64simulator_SEQ/Y86-64simulator_SEQ.ipynb#W5sZmlsZQ%3D%3D?line=60'>61</a>\u001b[0m    \u001b[39mreturn\u001b[39;00m \u001b[39mTrue\u001b[39;00m\n\u001b[1;32m---> <a href='vscode-notebook-cell:/c%3A/Users/mangp/Desktop/programs/%E4%BD%93%E7%B3%BB%E7%BB%93%E6%9E%84/Y86-64simulator_SEQ/Y86-64simulator_SEQ.ipynb#W5sZmlsZQ%3D%3D?line=62'>63</a>\u001b[0m fetch\u001b[39m.\u001b[39;49mjoin()\n\u001b[0;32m     <a href='vscode-notebook-cell:/c%3A/Users/mangp/Desktop/programs/%E4%BD%93%E7%B3%BB%E7%BB%93%E6%9E%84/Y86-64simulator_SEQ/Y86-64simulator_SEQ.ipynb#W5sZmlsZQ%3D%3D?line=63'>64</a>\u001b[0m decode\u001b[39m.\u001b[39mjoin()\n\u001b[0;32m     <a href='vscode-notebook-cell:/c%3A/Users/mangp/Desktop/programs/%E4%BD%93%E7%B3%BB%E7%BB%93%E6%9E%84/Y86-64simulator_SEQ/Y86-64simulator_SEQ.ipynb#W5sZmlsZQ%3D%3D?line=64'>65</a>\u001b[0m execute\u001b[39m.\u001b[39mjoin()\n",
      "File \u001b[1;32md:\\anaconda3\\lib\\threading.py:1006\u001b[0m, in \u001b[0;36mThread.join\u001b[1;34m(self, timeout)\u001b[0m\n\u001b[0;32m   1004\u001b[0m     \u001b[39mraise\u001b[39;00m \u001b[39mRuntimeError\u001b[39;00m(\u001b[39m\"\u001b[39m\u001b[39mThread.__init__() not called\u001b[39m\u001b[39m\"\u001b[39m)\n\u001b[0;32m   1005\u001b[0m \u001b[39mif\u001b[39;00m \u001b[39mnot\u001b[39;00m \u001b[39mself\u001b[39m\u001b[39m.\u001b[39m_started\u001b[39m.\u001b[39mis_set():\n\u001b[1;32m-> 1006\u001b[0m     \u001b[39mraise\u001b[39;00m \u001b[39mRuntimeError\u001b[39;00m(\u001b[39m\"\u001b[39m\u001b[39mcannot join thread before it is started\u001b[39m\u001b[39m\"\u001b[39m)\n\u001b[0;32m   1007\u001b[0m \u001b[39mif\u001b[39;00m \u001b[39mself\u001b[39m \u001b[39mis\u001b[39;00m current_thread():\n\u001b[0;32m   1008\u001b[0m     \u001b[39mraise\u001b[39;00m \u001b[39mRuntimeError\u001b[39;00m(\u001b[39m\"\u001b[39m\u001b[39mcannot join current thread\u001b[39m\u001b[39m\"\u001b[39m)\n",
      "\u001b[1;31mRuntimeError\u001b[0m: cannot join thread before it is started"
     ]
    }
   ],
   "source": [
    "import threading\n",
    "\n",
    "pre_signals = (0, 0, 0, 0, 0)\n",
    "(IF_icode, IF_ifun, IF_rA, IF_rB, IF_valP, IF_valC) = (0, 0, 0, 0, 0, 0)\n",
    "(ID_icode, ID_ifun, ID_valA, ID_valB, ID_valP, ID_valC, ID_rB, ID_rA) = (0,0,0,0,0,0,0,0)\n",
    "(EX_valE, EX_valP, EX_Cnd,  EX_valC, EX_icode, EX_ifun, EX_valA, EX_rB, EX_rA) = (0,0,0,0,0,0,0,0,0)\n",
    "(MEM_valP, MEM_Cnd, MEM_valC, MEM_icode, MEM_valM, MEM_rB, MEM_valE, MEM_ifun, MEM_rA) = (0,0,0,0,0,0,0,0,0)\n",
    "# fetch阶段任务\n",
    "def task_fetch():\n",
    "   global IF_icode, IF_ifun, IF_rA, IF_rB, IF_valP, IF_valC, pre_signals\n",
    "   (IF_icode, IF_ifun, IF_rA, IF_rB, IF_valP, IF_valC) = Fetch(pre_signals)\n",
    "   # TODO\n",
    "   # 目前未考虑任何分支或者跳转指令\n",
    "   pre_signals = (IF_valP, 0, IF_valC, IF_icode, 0)\n",
    "   # debug\n",
    "   thread_id = threading.current_thread().name\n",
    "   print(f\"thread {thread_id} fetching\")\n",
    "\n",
    "def task_decode():\n",
    "   global ID_icode, ID_ifun, ID_valA, ID_valB, ID_valP, ID_valC, ID_rB, ID_rA\n",
    "   (ID_icode, ID_ifun, ID_valA, ID_valB, ID_valP, ID_valC, ID_rB, ID_rA)= Decode((IF_icode, IF_ifun, IF_rA, IF_rB, IF_valP, IF_valC))\n",
    "   # debug\n",
    "   thread_id = threading.current_thread().name\n",
    "   print(f\"thread {thread_id} decoding\")\n",
    "\n",
    "def task_execute():\n",
    "   global EX_valE, EX_valP, EX_Cnd,  EX_valC, EX_icode, EX_ifun, EX_valA, EX_rB, EX_rA\n",
    "   (EX_valE, EX_valP, EX_Cnd,  EX_valC, EX_icode, EX_ifun, EX_valA, EX_rB, EX_rA) = Execute((ID_icode, ID_ifun, ID_valA, ID_valB, ID_valP, ID_valC, ID_rB, ID_rA))\n",
    "   # debug\n",
    "   thread_id = threading.current_thread().name\n",
    "   print(f\"thread {thread_id} executing\")\n",
    "\n",
    "def task_memory():\n",
    "   global MEM_valP, MEM_Cnd, MEM_valC, MEM_icode, MEM_valM, MEM_rB, MEM_valE, MEM_ifun, MEM_rA\n",
    "   (MEM_valP, MEM_Cnd, MEM_valC, MEM_icode, MEM_valM, MEM_rB, MEM_valE, MEM_ifun, MEM_rA) = Memory((EX_valE, EX_valP, EX_Cnd,  EX_valC, EX_icode, EX_ifun, EX_valA, EX_rB, EX_rA))\n",
    "   # debug\n",
    "   thread_id = threading.current_thread().name\n",
    "   print(f\"thread {thread_id} memorying\")\n",
    "\n",
    "def task_writeback():\n",
    "   WriteBack((MEM_valP, MEM_Cnd, MEM_valC, MEM_icode, MEM_valM, MEM_rB, MEM_valE, MEM_ifun, MEM_rA))\n",
    "   # debug\n",
    "   thread_id = threading.current_thread().name\n",
    "   print(f\"thread {thread_id} writingback\")\n",
    "\n",
    "def cycle():\n",
    "   # 创建5个线程，每个线程完成一个阶段的工作\n",
    "   fetch = threading.Thread(target=task_fetch)\n",
    "   decode = threading.Thread(target = task_decode) \n",
    "   execute = threading.Thread(target=task_execute)\n",
    "   memory = threading.Thread(target = task_memory)\n",
    "   writeback = threading.Thread(target = task_writeback)\n",
    "\n",
    "   fetch.start()\n",
    "   decode.start()\n",
    "   execute.start()\n",
    "   memory.start()\n",
    "   writeback.start()\n",
    "\n",
    "   fetch.join()\n",
    "   decode.join()\n",
    "   execute.join()\n",
    "   memory.join()\n",
    "   writeback.join()\n",
    "\n",
    "   if check() == False:\n",
    "      return False\n",
    "\n",
    "   return True"
   ]
  },
  {
   "cell_type": "code",
   "execution_count": null,
   "metadata": {},
   "outputs": [
    {
     "name": "stdout",
     "output_type": "stream",
     "text": [
      "thread Thread-5 fetching\n",
      "thread Thread-6 decoding\n",
      "thread Thread-7 executing\n",
      "thread Thread-8 memorying\n",
      "thread Thread-9 writingback\n",
      "thread Thread-10 fetching\n",
      "thread Thread-11 decoding\n",
      "thread Thread-12 executing\n",
      "thread Thread-13 memorying\n",
      "thread Thread-14 writingback\n",
      "thread Thread-15 fetching\n",
      "thread Thread-16 decoding\n",
      "thread Thread-17 executing\n",
      "thread Thread-18 memorying\n",
      "thread Thread-19 writingback\n",
      "thread Thread-20 fetching\n",
      "thread Thread-21 decoding\n",
      "thread Thread-22 executing\n",
      "thread Thread-23 memorying\n",
      "thread Thread-24 writingback\n",
      "thread Thread-25 fetching\n",
      "thread Thread-26 decoding\n",
      "thread Thread-27 executing\n",
      "thread Thread-28 memorying\n",
      "thread Thread-29 writingback\n",
      "thread Thread-30 fetching\n",
      "thread Thread-31 decoding\n",
      "thread Thread-32 executing\n",
      "thread Thread-33 memorying\n",
      "thread Thread-34 writingback\n",
      "Error: Halt\n",
      "[1, 0, 0, 0, 1000, 0, 0, 0, 0, 0, 0, 0, 0, 0, 0, 0]\n"
     ]
    }
   ],
   "source": [
    "while True:\n",
    "    if not cycle():\n",
    "        break\n",
    "\n",
    "# print(resources.mem)\n",
    "print(resources.reg)"
   ]
  }
 ],
 "metadata": {
  "kernelspec": {
   "display_name": "Python 3",
   "language": "python",
   "name": "python3"
  },
  "language_info": {
   "codemirror_mode": {
    "name": "ipython",
    "version": 3
   },
   "file_extension": ".py",
   "mimetype": "text/x-python",
   "name": "python",
   "nbconvert_exporter": "python",
   "pygments_lexer": "ipython3",
   "version": "3.8.8"
  },
  "orig_nbformat": 4,
  "vscode": {
   "interpreter": {
    "hash": "865d8b2eb28e274047ba64063dfb6a2aabf0dfec4905d304d7a76618dae6fdd4"
   }
  }
 },
 "nbformat": 4,
 "nbformat_minor": 2
}
